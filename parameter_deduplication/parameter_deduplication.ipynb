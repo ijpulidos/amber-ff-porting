{
 "metadata": {
  "language_info": {
   "codemirror_mode": {
    "name": "ipython",
    "version": 3
   },
   "file_extension": ".py",
   "mimetype": "text/x-python",
   "name": "python",
   "nbconvert_exporter": "python",
   "pygments_lexer": "ipython3",
   "version": 3
  },
  "orig_nbformat": 2
 },
 "nbformat": 4,
 "nbformat_minor": 2,
 "cells": [
  {
   "source": [
    "# ForceField Parameter Deduplication\n",
    "## Authors: Connor Davel, Jeffrey Wagner\n",
    "## Date Created: April 21, 2021\n",
    "One inefficiency in the current forcefields is redudant parameters. These add an estimated 10 to 20% loading time during the very slow `ForceField.create_openmm_system()` function, not to mention any other function that need to load and parse the file. Since searching and operating on large forcefield files tends to be more than linearly complex, it is important that the user is given the shortest forcefield parameter file possible while also maintaining the same results no matter the chemical environment. The goal of this notebook is to reduce the size of `test.offxml` and produce the same energy calculations for the ALA_ALA protein and t4 protein files. \n",
    "\n",
    "## Forcefield reduction methods\n",
    "Any two identical smirks should have the same parameters, so one of these smirks can be safely removed without changing how the system is parameterized. For example, the first two bonds in `test.offxml` are equivalent:\n",
    "\n",
    "`<Bond smirks=\"[H][C@@]([C]=O)([C:1]([H:2])([H])[S])[N][H]\" length=\"1.09 * angstrom\" k=\"680.0 * angstrom**-2 * mole**-1 * kilocalorie\" id=\"A14SB-MainChain_CYX-2C_H1\"></Bond>`\n",
    "\n",
    "`<Bond smirks=\"[H][C@@]([C]=O)([C:1]([H])([H:2])[S])[N][H]\" length=\"1.09 * angstrom\" k=\"680.0 * angstrom**-2 * mole**-1 * kilocalorie\" id=\"A14SB-MainChain_CYX-2C_H1\"></Bond>`\n",
    "\n",
    "The only difference between the two smirks is which identical hydrogen is mapped. Changing the mapping or which specific hydrogen is bonded to carbon does not change the structure or the bond values (length, k, etc.). Identical smirks are recognized with two methods:\n",
    "\n",
    "1) MCS substructure searching with as custom isotope search function\n",
    "\n",
    "2) isomorphism test adapted from `Molecule.are_isomorphic()` (Same method but used RDKit instead of Molecule)\n",
    "\n",
    "Throughout the notebook, I avoided using the `Molecule` or `FrozenMolecule` since these classes do not play nicely with wild-type bonds. I used RDKit for the MCS seraching and isomorphism, so free users can use this notebook. \n",
    "\t\t"
   ],
   "cell_type": "markdown",
   "metadata": {}
  },
  {
   "source": [
    "## Importing dependences and loading forcefield"
   ],
   "cell_type": "markdown",
   "metadata": {}
  },
  {
   "cell_type": "code",
   "execution_count": null,
   "metadata": {},
   "outputs": [],
   "source": [
    "from openff.toolkit.topology import Molecule, Topology\n",
    "from openff.toolkit.typing.engines.smirnoff import ForceField\n",
    "import parmed as ParmEd\n",
    "from simtk import openmm\n",
    "from simtk.openmm import app, unit, XmlSerializer, LangevinIntegrator\n",
    "from simtk.openmm.app import NoCutoff, HBonds\n",
    "from utils import fix_carboxylate_bond_orders\n",
    "import os\n",
    "import itertools\n",
    "import time\n",
    "from pathlib import Path"
   ]
  }
 ]
}